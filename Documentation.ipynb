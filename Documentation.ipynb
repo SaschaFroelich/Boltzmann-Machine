{
 "cells": [
  {
   "cell_type": "markdown",
   "metadata": {},
   "source": [
    "# Documentation (By example)\n",
    "\n",
    "Here, we will see how and if the BM code works by going through some concrete examples. The Boltzmann Machine is written as a class named BoltzmannM() in the file BM.py. As with any class, we first have to initialise it to do anything with it!"
   ]
  },
  {
   "cell_type": "markdown",
   "metadata": {},
   "source": [
    "### Initialise the Boltzmann machine\n",
    "bm = BM.BoltzmannM(no_vis, no_hid = 0, restr = 0, **kwargs)\n",
    "\n",
    "__INPUT__ <br>\n",
    "&nbsp;&nbsp;&nbsp;&nbsp;__no_vis__  :   no of visible neurons<br>\n",
    "&nbsp;&nbsp;&nbsp;&nbsp;__no_hid__   : no. of hidden neurons<br>\n",
    "&nbsp;&nbsp;&nbsp;&nbsp;__restr__       : BOOL value (1: restricted BM, 0: non-restricted BM (Default)) <br>\n",
    "&nbsp;&nbsp;&nbsp;&nbsp;__W__           : (symmetric matrix with diagonal = 0) matrix connection weights. Size: (no_vis+no_hid)*(no_vis+no_hid). <br>\n",
    "&nbsp;&nbsp;&nbsp;&nbsp;__bias__        : bias vector (size (no_vis+no_hid)x1) (Default: each bias initialised uniformly randomly between -1 and 1.)<br>\n",
    "&nbsp;&nbsp;&nbsp;&nbsp;__init_state__  : (vector of size (no_vis + no_hid)x1) initial state of the BM. <br>\n",
    "__Additional Info__\n",
    "__W__ has to be a symmetric matrix with 0 on the diagonal (since neurons are not connected to themselves). In the case of a restricted BM, visible neurons are not connected to each other and hidden units are neither. This greatly increases learning speed. <br><br>\n",
    "\n",
    "Below we first import BM (BM.py from this github repo) which contains the BoltzmannM class. We initialise the BM with 28*28 visible units since we would like to train it on the MNIST dataset for handwritten digits (see below). We choose to have the same number of hidden units (for no particular reason):"
   ]
  },
  {
   "cell_type": "code",
   "execution_count": 4,
   "metadata": {},
   "outputs": [],
   "source": [
    "\"Initialization of BM\"\n",
    "import BM\n",
    "import numpy as np\n",
    "\n",
    "no_vis = 28*28 # No of visible neurons\n",
    "no_hid = 28*28 # No of hidden neurons (default 0)\n",
    "bm = BM.BoltzmannM(no_vis, no_hid = no_hid, initial_state=np.ones(no_vis+no_hid), restr = 1)"
   ]
  },
  {
   "cell_type": "markdown",
   "metadata": {},
   "source": [
    "### Train Boltzmann Machine with Binary Data\n",
    "The Boltzmann machine can only be trained with binary datasets. For training, we use the method __learn__: <br>\n",
    "\n",
    "bm.learn(data, it = 600, alphaW = 0.03, alphab = 0.03) <br>\n",
    "\n",
    "__INPUT__ <br>\n",
    "&nbsp;&nbsp;&nbsp;&nbsp;__data__  : list of datasamples. Each datasample is a 1D list of its own.<br>\n",
    "&nbsp;&nbsp;&nbsp;&nbsp;__it__  : number of iterations. Each iteration step, the BM estimates its expectation values $\\langle s_i s_j \\rangle_{model}$ and $\\langle s_i \\rangle_{model}$ and updates its connection matrix and biases (see notebook \"Boltzmann machine\"). <br>\n",
    "&nbsp;&nbsp;&nbsp;&nbsp; __alphaW__ : learning rate for connection matrix <br>\n",
    "&nbsp;&nbsp;&nbsp;&nbsp; __alphab__ : learning rate for biases <br>\n",
    "\n",
    "__data__ : 2D list. Each row of the list is one dataset, i.e. one state vector.\n",
    "Optional: Set no. of iterations and learning rate step-size (alphaW for weight matrix and alphab for biases).\n",
    "\n",
    "bm.learn(data, it = 1000, alphaW = 0.03, alphab = 0.03)\n",
    "\n",
    "In this example we use the MNIST dataset for handwritten digits. You can download the dataset by going to the [github project](https://github.com/sorki/python-mnist) and following the instructions there: <br>\n",
    "\\$git clone https://github.com/sorki/python-mnist <br>\n",
    "\n",
    "\\$cd python-mnist/bin <br>\n",
    "\n",
    "\\$./mnist_get_data.sh <br>"
   ]
  },
  {
   "cell_type": "code",
   "execution_count": null,
   "metadata": {},
   "outputs": [],
   "source": [
    "bm.learn(data, it = 1000, alphaW = 0.03, alphab = 0.03)"
   ]
  },
  {
   "cell_type": "markdown",
   "metadata": {},
   "source": [
    "### MNIST dataset\n",
    "The MNIST dataset is a freely available dataset of 60,000 handwritten digits. You can download the dataset by going to the [github project](https://github.com/sorki/python-mnist) and following the instructions on the github page. Since the MNIST data is not binarized we will have to do that before training the boltzmann machine. After installing MNIST on your PC you can binarize the images like so:"
   ]
  },
  {
   "cell_type": "code",
   "execution_count": 16,
   "metadata": {},
   "outputs": [],
   "source": [
    "from mnist import MNIST\n",
    "mndata = MNIST('python-mnist/data')\n",
    "mndata.gz = False\n",
    "images, labels = mndata.load_training()\n",
    "\n",
    "images_bin = images.copy()\n",
    "for row in range(len(images_bin)):\n",
    "    digit = [0 if i<=30 else 1 for i in images_bin[row]]\n",
    "    images_bin[row] = digit\n",
    "\n",
    "del images"
   ]
  },
  {
   "cell_type": "markdown",
   "metadata": {},
   "source": [
    "Let's check out the first image in the binarized image set:"
   ]
  },
  {
   "cell_type": "code",
   "execution_count": 17,
   "metadata": {},
   "outputs": [
    {
     "data": {
      "image/png": "[encoded data removed]",
      "text/plain": [
       "<PIL.Image.Image image mode=L size=200x200 at 0x7F135C3B9EE0>"
      ]
     },
     "metadata": {},
     "output_type": "display_data"
    }
   ],
   "source": [
    "from PIL import Image\n",
    "imvec = np.reshape(images_bin[0], (28,28)).tolist()\n",
    "i=Image.fromarray(np.array(imvec, dtype=np.uint8)*200,\"L\")\n",
    "i = i.resize((200,200))\n",
    "display(i)"
   ]
  },
  {
   "cell_type": "markdown",
   "metadata": {},
   "source": [
    "Looks alright, doesn't it?"
   ]
  },
  {
   "cell_type": "code",
   "execution_count": null,
   "metadata": {},
   "outputs": [],
   "source": []
  }
 ],
 "metadata": {
  "kernelspec": {
   "display_name": "Python 3",
   "language": "python",
   "name": "python3"
  },
  "language_info": {
   "codemirror_mode": {
    "name": "ipython",
    "version": 3
   },
   "file_extension": ".py",
   "mimetype": "text/x-python",
   "name": "python",
   "nbconvert_exporter": "python",
   "pygments_lexer": "ipython3",
   "version": "3.9.1"
  }
 },
 "nbformat": 4,
 "nbformat_minor": 4
}
