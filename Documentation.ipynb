{
 "cells": [
  {
   "cell_type": "markdown",
   "metadata": {},
   "source": [
    "# Documentation"
   ]
  },
  {
   "cell_type": "markdown",
   "metadata": {},
   "source": [
    "### Initialise the Boltzmann machine\n",
    "bm = BM.BoltzmannM(...)\n",
    "\n",
    "INPUT <br>\n",
    "    __no_vis__  :   no of visible neurons<br>\n",
    "    OPTIONAL<br>\n",
    "    __no_hid__   : no. of hidden neurons (default 0)<br>\n",
    "    __restr__       : BOOL value (1: restricted BM, 0: non-restricted BM (Default))\n",
    "    __W__           : (symmetric matrix with diagonal = 0) matrix connection weights. \n",
    "                  Size (no_vis+no_hid)*(no_vis+no_hid)\n",
    "                  (Default: <br>\n",
    "                  [non-restricted BM]<br>\n",
    "                  each weight initialised uniformly randomly between 0 and 1/(no_vis+no_hid). \n",
    "                  Diagonal elements are 0.<br>\n",
    "                  [restricted BM, see above]<br>\n",
    "                  connections *only* between visible and non-visible units:\n",
    "                  only lower-left rectangle and upper-right rectangle are non-zero)<br>\n",
    "    __bias__        : bias vector (size (no_vis+no_hid)x1) (Default:\n",
    "                  each bias initialised uniformly randomly between -1 and 1.)<br>\n",
    "    __init_state__  : (vector of size (no_vis + no_hid)x1) initial state of the BM. \n",
    "        \n"
   ]
  },
  {
   "cell_type": "code",
   "execution_count": 3,
   "metadata": {},
   "outputs": [],
   "source": [
    "import BM\n",
    "import numpy as np\n",
    "\n",
    "no_vis = 28 # No of visible neurons\n",
    "N_hid = 28 # No of hidden neurons (default 0)\n",
    "bm = BM.BoltzmannM(no_vis, no_hidden = N_hid, initial_state=np.ones(N_vis+N_hid))"
   ]
  },
  {
   "cell_type": "markdown",
   "metadata": {},
   "source": [
    "### Train Boltzmann Machine with Binary Data\n",
    "__data__ : 2D list. Each row of the list is one dataset, i.e. one state vector.\n",
    "Optional: Set no. of iterations and learning rate step-size (alphaW for weight matrix and alphab for biases).\n",
    "\n",
    "bm.learn(data, it = 600, alphaW = 0.03, alphab = 0.03)\n",
    "\n",
    "In this example we use the MNIST dataset for handwritten digits. You can download the dataset by going to the [github project](https://github.com/sorki/python-mnist) and following the instructions:\n",
    "\\$git clone https://github.com/sorki/python-mnist <br>\n",
    "\n",
    "\\$cd python-mnist/bin <br>\n",
    "\n",
    "\\$./mnist_get_data.sh <br>\n",
    "\n",
    "Then in python: <br>\n",
    "from mnist import MNIST <br>\n",
    "mndata = MNIST('data/') <br>\n",
    "mndata.gz = False <br>\n",
    "images, labels = mndata.load_training() <br>\n",
    "\n",
    "Now images should be a list of lists with non-binary entries between 0 and 255. We want to binarise the images:\n",
    "\n",
    "images_bin[images <= 30] = 0\n",
    "\n",
    "images_bin[images > 30] = 1\n",
    "\n",
    "Now we are ready to train the BM: \n",
    "\n",
    "bm.learn(data, it = 10_000)"
   ]
  },
  {
   "cell_type": "code",
   "execution_count": null,
   "metadata": {},
   "outputs": [],
   "source": []
  }
 ],
 "metadata": {
  "kernelspec": {
   "display_name": "Python 3",
   "language": "python",
   "name": "python3"
  },
  "language_info": {
   "codemirror_mode": {
    "name": "ipython",
    "version": 3
   },
   "file_extension": ".py",
   "mimetype": "text/x-python",
   "name": "python",
   "nbconvert_exporter": "python",
   "pygments_lexer": "ipython3",
   "version": "3.9.1"
  }
 },
 "nbformat": 4,
 "nbformat_minor": 4
}
