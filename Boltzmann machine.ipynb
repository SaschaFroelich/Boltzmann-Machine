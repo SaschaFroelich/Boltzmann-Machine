{
 "cells": [
  {
   "cell_type": "markdown",
   "metadata": {},
   "source": [
    "# The Boltzmann machine\n",
    "\n",
    "## A short introduction\n",
    "\n",
    "A Boltzmann machine is a _symmetric binary stochastic neural network_. This means that the nodes (also called neurons) of the network can only assume one of two possible states, namely 1 and 0 or, equivalently, \"on\" and \"off\" (__binary property__). At each iteration step, the state of such a neuron is switched on (or kept on) with a certain __probability p__ (__stochastic property__). Intuitively, a neuron should more likely to be active (i.e. in the \"on\" state) if it receives a lot of input. This is exactly what is the case in the Boltzmann machine, where the probability $p(s_i)$ that neuron $i$ is in state $s=1^{[1],[2]}$:\n",
    "\n",
    "$$p(s_i=1) = \\frac{1}{1+e^{-\\frac{z_i}{T}}},$$\n",
    "\n",
    "where\n",
    "\n",
    "$$z_i = b_i + \\sum_{j}^N s_j\\omega_{ij}, \\,\\,\\, \\omega_{ii} = 0.$$\n",
    "\n",
    "$z_i$ is the input that unit $i$ receives (where bias acts as input as well). Here, $s_j$ is the state of neuron $j$, $N$ is the number of neurons in the network, $b_i$ is the _bias_ of neuron $i$ and $\\omega_{ij}$ is the connection strength from neuron $j$ to neuron $i$. Importantly connections are symmetric, i.e. $\\omega_{ij}=\\omega_{ji}$ (__symmetric property__). $T$ is the system temperature. It determines the slope of the sigmoid function $p(s_i = 1)$, which turns into the Heaviside stepfunction for $T \\rightarrow 0$:\n",
    "\n",
    "![Activation function of unit i](./sigmoid.png)\n",
    "\n",
    "The state of the network is completely described by state vector $\\vec{s}=(s_1, s_2, ..., s_n)^T$, $s_i\\in{0,1}$.\n",
    "\n",
    "Before coming to the eponymous feature of the Boltzmann machine, we first have to introduce the concept of the _energy_ of the network. Each state $\\vec{s}$ is associated with a scalar function called the state's _energy_ E($\\vec{s}$):\n",
    "\n",
    "$$E(\\vec{s}) = -\\sum_i s_i b_i - \\sum_{i \\lt j} s_is_j\\omega_{ij},$$\n",
    "where\n",
    "$$\\sum_{i \\lt j} s_is_j\\omega_{ij} \\doteq  \\sum_{i=1}^j \\sum_{j=2}^N s_is_j\\omega_{ij},$$\n",
    "\n",
    "The energy of a state is thus __the negative sum of the biases of all active neurons minus the sum of connection weights of connections whose neurons on both ends are active__. "
   ]
  },
  {
   "cell_type": "markdown",
   "metadata": {},
   "source": [
    "<div class=\"alert alert-block alert-info\">\n",
    "<b>Some words about the energy function</b>\n",
    "\n",
    "Why is $E(\\vec{s})$ called the energy? It's called energy because it behaves like a physical energy: it's a scalar function whcih the system tends to minimize. How can we see that the energy is actually minimized by the system? To understand this, it is helpful to realise that the input $z_i$ to a neuron is is equal to the amount by which $E(\\vec{s})$ is reduced, when unit $i$ turns from off to on:\n",
    "\n",
    "$$E(s_i = 0)-E(s_i=1) = z_i.$$\n",
    "\n",
    "Now consider the case $T\\rightarrow 0$, for which the probability of a neuron being on turns into a step function (Fig. 1): If $z_i>0$ (which means that a switching on of the state would reduce the energy function), the state is set to \"on\" with 100% certainty. If $z_i<0$ (which means that a switching on of the state would increase the energy function), the state is set to \"off\" with certainty. If $T<<\\infty$, then this behaviour is not deterministic anymore, but as $z_i>0$ still means that state $i$ will be on most of the time ($z_i > 0 \\rightarrow p(z_i)>0.5$), the system _tends_ to minimize its energy function.\n",
    "\n",
    "It is however hard, if not impossible, to easily say what configuration the system takes to assume. In the simple case where all biases are greater or equal to zero, and all connection weights are larger than zero, it is easy to see that a minimization of the energy is equivalent to a turning on of all neurons. Similarly the system tends to turn neurons off if biases and weights are all negative. In the case however where biases and/ or weights can be both negative and positive, the energy-minimizing configuration is not that easy to see.\n",
    "\n",
    "</div>"
   ]
  },
  {
   "cell_type": "markdown",
   "metadata": {},
   "source": [
    "If the neuronal states of the network are updated in a way that is not dependent on the states, the network will eventually settle in a __Boltzmann distribution__. This means, that the occurrence probability $p(\\vec{s})$ of a state vector $\\vec{s}$ is dependent only to its energy:\n",
    "\n",
    "$$p(\\vec{s}) = \\frac{e^{-E(\\vec{s})}}{\\sum_\\vec{u}e^{-E(\\vec{u})}} \\ \\ \\ \\ \\ \\ (1)$$\n",
    "\n",
    "where $\\sum_\\vec{u}$ is the sum over all possible network states. Note that $p(\\vec{s})$ is proportional to the exponential of the state's negative energy, as $\\sum_\\vec{u}e^{-E(\\vec{u})} = const$. The distribution for $p(\\vec{s})$ derives its name from the similar-looking [Boltzmann Distribution](https://en.wikipedia.org/wiki/Boltzmann_distribution) from statistical mechanics, which describes the probability of occurrence of a physical state in a thermodynamical system."
   ]
  },
  {
   "cell_type": "markdown",
   "metadata": {},
   "source": [
    "# Learning\n",
    "\n",
    "## Learning without Hidden Units\n",
    "\n",
    "The learning rules for the connection strengths and biases of a Boltzmann machine without hidden units are$^{[1]}$:\n",
    "<div class=\"alert alert-block alert-danger\">\n",
    "<b>Learning rules (without hidden units)</b>\n",
    "$$\\Delta \\omega_{ij} = \\alpha_\\omega \\cdot \\left( \\langle s_i s_j \\rangle_{data} - \\langle s_i s_j \\rangle_{model} \\right)$$\n",
    "$$\\Delta b_i = \\alpha_b \\cdot \\left( \\langle s_j \\rangle_{data} - \\langle s_j \\rangle_{model} \\right)$$\n",
    "    </div>\n",
    "Here $\\alpha_\\omega$ and $\\alpha_b$ are the learning rates, and _model_ stands for Boltzmann machine."
   ]
  },
  {
   "cell_type": "markdown",
   "metadata": {},
   "source": [
    "# References\n",
    "\n",
    "[1] [Geoffrey E. Hinton (2007) Boltzmann machine. Scholarpedia, 2(5):1668.](http://www.scholarpedia.org/article/Boltzmann_machine)\n",
    "\n",
    "[2] [Wikipedia: Boltzmann machine](https://en.wikipedia.org/wiki/Boltzmann_machine)\n",
    "\n",
    "# Further Reading\n",
    "\n",
    "- https://www.cs.toronto.edu/~hinton/absps/guideTR.pdf\n",
    "\n",
    "- http://rocknrollnerd.github.io/ml/2015/07/18/general-boltzmann-machines.html\n",
    "\n",
    "- https://www.enterrasolutions.com/media/docs/2013/08/cogscibm.pdf"
   ]
  },
  {
   "cell_type": "markdown",
   "metadata": {},
   "source": [
    "# Appendix\n",
    "\n",
    "## Approximation to the Boltzmann Distribution\n",
    "\n",
    "We want to check that the Boltzmann machine (BM) actually generates state vectors with their respective boltzmann-probabilities (equation (1)). This should be the case after the BM had the chance to settle into its stable state, thus after a certain number of iterations. The longer it iterates (i.e. generates data), the closer it should be to the Boltzmann distribution.\n",
    "\n",
    "In the following we will check whether the average distance between the boltzmann-probabilities of binary states with 10 entries and their probabilities of being generated by the (randomly initialised) BM actually decreases with more iterations.\n",
    "\n",
    "Note: The following is merely a proof of principle and not a strict mathematical proof the boltzmann property!\n"
   ]
  },
  {
   "cell_type": "code",
   "execution_count": 2,
   "metadata": {
    "scrolled": true
   },
   "outputs": [
    {
     "name": "stderr",
     "output_type": "stream",
     "text": [
      "100%|██████████| 1/1 [00:00<00:00, 1484.71it/s]\n",
      "100%|██████████| 8/8 [00:00<00:00, 2112.07it/s]\n",
      "100%|██████████| 27/27 [00:00<00:00, 1310.83it/s]\n",
      "100%|██████████| 64/64 [00:00<00:00, 1810.08it/s]\n",
      "100%|██████████| 125/125 [00:00<00:00, 2255.53it/s]\n",
      "100%|██████████| 216/216 [00:00<00:00, 2491.11it/s]\n",
      "100%|██████████| 343/343 [00:00<00:00, 2244.51it/s]\n",
      "100%|██████████| 512/512 [00:00<00:00, 2420.86it/s]\n",
      "100%|██████████| 729/729 [00:00<00:00, 2445.25it/s]\n",
      "100%|██████████| 1000/1000 [00:00<00:00, 2420.84it/s]\n",
      "100%|██████████| 1331/1331 [00:00<00:00, 2464.08it/s]\n",
      "100%|██████████| 1728/1728 [00:00<00:00, 2475.04it/s]\n",
      "100%|██████████| 2197/2197 [00:00<00:00, 2307.15it/s]\n",
      "100%|██████████| 2744/2744 [00:01<00:00, 2448.73it/s]\n",
      "100%|██████████| 3375/3375 [00:01<00:00, 2416.63it/s]\n",
      "100%|██████████| 4096/4096 [00:01<00:00, 2360.40it/s]\n",
      "100%|██████████| 4913/4913 [00:02<00:00, 2449.89it/s]\n",
      "100%|██████████| 5832/5832 [00:02<00:00, 2476.71it/s]\n",
      "100%|██████████| 6859/6859 [00:02<00:00, 2430.02it/s]\n",
      "100%|██████████| 8000/8000 [00:03<00:00, 2450.41it/s]\n",
      "100%|██████████| 9261/9261 [00:03<00:00, 2435.78it/s]\n",
      "100%|██████████| 10648/10648 [00:04<00:00, 2418.51it/s]\n",
      "100%|██████████| 12167/12167 [00:05<00:00, 2389.20it/s]\n",
      "100%|██████████| 13824/13824 [00:05<00:00, 2357.60it/s]\n"
     ]
    }
   ],
   "source": [
    "import BM #import Boltzmann Machine script (from this repository)\n",
    "import numpy as np\n",
    "N = 10 # There are 1024 different binary state vectors of length 10\n",
    "\n",
    "iterations = [i**3 for i in range(1,25)]\n",
    "distances = []\n",
    "\n",
    "for no_of_iterations in iterations:\n",
    "    bm = BM.BoltzmannM(N, initial_state=np.ones(N)) # Initialise BM (random weights and biases are automatically assigned)\n",
    "    \n",
    "    laststate, state_history = bm.iterate(no_of_iterations, savehist=True, suppress_output=True) # Iterate \n",
    "\n",
    "    import itertools\n",
    "    all_possible_states = [list(i) for i in itertools.product([0, 1], repeat=N)] # Create a list of all 1024 possible states\n",
    "    energies = bm.energy(all_possible_states) # Use the method energy() to compute the energy for each element in the list (Here an element is a list of length 10)\n",
    "\n",
    "    boltzmann_probs = []\n",
    "    for idx, state in enumerate(all_possible_states):\n",
    "        boltzmann_probability = np.exp(-energies[idx])/np.exp(-np.array(energies)).sum()\n",
    "        boltzmann_probs.append(boltzmann_probability)\n",
    "\n",
    "    # boltzmann_probs now contains the boltzmann-probabilities for the states in all_possible_states\n",
    "    # Compute the probability of a state actually being generated by the model\n",
    "\n",
    "    model_probs = []\n",
    "    for state in all_possible_states:\n",
    "        occurences_in_history = [1 for s in state_history if s == state]\n",
    "        model_probs.append(sum(occurences_in_history)/no_of_iterations)\n",
    "\n",
    "    # model_probs now contains the probabilities of occurrence for the states in state_history (generated by the BM)\n",
    "\n",
    "    # The average distance between the probabilities is thus \n",
    "    average_distance = (abs(np.array(boltzmann_probs) - np.array(model_probs))).mean()\n",
    "    distances.append(average_distance)"
   ]
  },
  {
   "cell_type": "code",
   "execution_count": 3,
   "metadata": {},
   "outputs": [
    {
     "data": {
      "text/plain": [
       "[<matplotlib.lines.Line2D at 0x7f6fdd43b5b0>]"
      ]
     },
     "execution_count": 3,
     "metadata": {},
     "output_type": "execute_result"
    },
    {
     "data": {
      "image/png": "[encoded data removed]",
      "text/plain": [
       "<Figure size 432x288 with 1 Axes>"
      ]
     },
     "metadata": {
      "needs_background": "light"
     },
     "output_type": "display_data"
    }
   ],
   "source": [
    "import matplotlib.pyplot as plt\n",
    "plt.plot(iterations,distances)"
   ]
  },
  {
   "cell_type": "markdown",
   "metadata": {},
   "source": [
    "## Derivation of the Learning Rules\n",
    "The learning rates can be derived as follows:\n",
    "\n",
    "$$\n",
    "\\begin{align}\n",
    "\\langle \\frac{\\partial}{\\partial \\omega_{ij}} \\ln p(\\vec{v})\\rangle_{data} = \\langle \\frac{\\partial}{\\partial \\omega_{ij}}\\left( -E(\\vec{v}) -\\ln \\sum_{\\vec{u}} e^{-E(\\vec{u})} \\right) \\rangle_{data} \\ \\ \\ \\ \\ \\ (2)\n",
    "\\end{align}\n",
    "$$\n",
    "Here, we used the identity of Equation (1) above. $\\langle \\cdot \\rangle_{data}$ stands for the expected value under the distribution of state vectors $\\vec{v}$ in the data. We can thus rewrite the above equation as:\n",
    "\n",
    "$$\n",
    "\\begin{align}\n",
    "\\sum_{\\vec{v}} p_{data}(\\vec{v})\\left( \\frac{\\partial}{\\partial \\omega_{ij}}\\left( -E(\\vec{v}) -\\ln \\sum_{\\vec{u}} e^{-E(\\vec{u})} \\right) \\right)  \\ \\ \\ \\ \\ \\ (3)\n",
    "\\end{align}\n",
    "$$\n",
    "In the previous equation $p_{data}(\\vec{v})$ stands for the probability of state vector $\\vec{v}$ occurring in the training data and must therefore not be confused with the boltzmann distribution in equation (1) above.\n",
    "\n",
    "For the next step we use the fact that $\\frac{\\partial}{\\partial \\omega_{ij}}E(\\vec{v})=-s_is_j$. At the same time we use $\\frac{\\partial}{\\partial \\omega_{ij}} \\ln \\sum_{\\vec{u}}e^{-E(\\vec{u})} = \\frac{\\frac{\\partial}{\\partial \\omega_{ij}} \\sum_{\\vec{u}}e^{-E(\\vec{u})}}{\\sum_{\\vec{u}}e^{-E(\\vec{u})}}$, because of $\\frac{\\partial}{\\partial x} \\ln(f(x)) = \\frac{\\frac{\\partial}{\\partial x} f(x)}{f(x)}$. Thus, equation (3) can be rewritten as:\n",
    "\n",
    "$$\n",
    "\\begin{align}\n",
    "\\sum_{\\vec{v}} p_{data}(\\vec{v})(s_is_j)_\\vec{v} - \\sum_{\\vec{v}} p_{data}(\\vec{v}) \\frac{\\frac{\\partial}{\\partial \\omega_{ij}} \\sum_{\\vec{u}}e^{-E(\\vec{u})}}{\\sum_{\\vec{u}}e^{-E(\\vec{u})}}  \\ \\ \\ \\ \\ \\ (4).\n",
    "\\end{align}\n",
    "$$\n",
    "Now this is starting to look a little complicated, but upon closer inspection we see that the left hand side is simply the expectation value of $s_is_j$ under the state-distribution of the data, and the right-hand side is independent of the vector $\\vec{v}$ we started with. Therefore, the sum on the RHS just sums to one and equation (4) can be rewritten as (writing the derivative inside the sum):\n",
    "\n",
    "$$\n",
    "\\begin{align}\n",
    "\\langle s_is_j \\rangle_{data} - \\frac{\\sum_{\\vec{u}} \\frac{\\partial}{\\partial \\omega_{ij}} e^{-E(\\vec{u})}}{\\sum_{\\vec{u}}e^{-E(\\vec{u})}}  \\ \\ \\ \\ \\ \\ (5).\n",
    "\\end{align}\n",
    "$$\n",
    "Derivation as before gives:\n",
    "$$\n",
    "\\begin{align}\n",
    "\\langle s_is_j \\rangle_{data} - \\frac{\\sum_{\\vec{u}} (s_is_j)_\\vec{u}\\cdot e^{-E(\\vec{u})}}{\\sum_{\\vec{u}}e^{-E(\\vec{u})}}  = \\langle s_is_j \\rangle_{data} - \\sum_\\vec{u}\\left( p(\\vec{u})\\cdot(s_is_j)_\\vec{u}\\right).\n",
    "\\end{align}\n",
    "$$\n",
    "\n",
    "In the last step we used the definition of the Boltzmann distribution from euqation (1). As the distribution describes the distribution of state vectors of the Boltzmann machine (which is the _model_), the LHS of equation resolves to:\n",
    "\n",
    "$$\\langle \\frac{\\partial}{\\partial \\omega_{ij}} \\ln p(\\vec{v})\\rangle_{data} = \\langle s_is_j \\rangle_{data} - \\langle s_is_j \\rangle_{model}.$$\n",
    "\n",
    "The learning rule for $b_i$ can be derived analogously."
   ]
  },
  {
   "cell_type": "markdown",
   "metadata": {},
   "source": [
    "# ToDo\n",
    "Hebbian Learning\n",
    "\n",
    "Hopfield networks\n",
    "\n",
    "Do not directly compute the partition function as it will quickly be a sum over an impossibly large number of possible state vectors (1267650600228229682971679916032 different states for N = 100 neurons). "
   ]
  }
 ],
 "metadata": {
  "kernelspec": {
   "display_name": "Python 3",
   "language": "python",
   "name": "python3"
  },
  "language_info": {
   "codemirror_mode": {
    "name": "ipython",
    "version": 3
   },
   "file_extension": ".py",
   "mimetype": "text/x-python",
   "name": "python",
   "nbconvert_exporter": "python",
   "pygments_lexer": "ipython3",
   "version": "3.8.1"
  }
 },
 "nbformat": 4,
 "nbformat_minor": 2
}
