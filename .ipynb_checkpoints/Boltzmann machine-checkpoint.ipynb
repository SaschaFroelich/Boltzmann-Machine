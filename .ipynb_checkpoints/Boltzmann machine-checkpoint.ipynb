{
 "cells": [
  {
   "cell_type": "markdown",
   "metadata": {},
   "source": [
    "# The Boltzmann machine\n",
    "\n",
    "A Boltzmann machine is a _symmetric binary stochastic neural network_. This means that the nodes (also called neurons) of the network can only assume one of two possible states, namely 1 and 0 or, equivalently, \"on\" and \"off\" (__binary property__). At each iteration step, the state of such a neuron is switched on (or kept on) with a certain __probability p__ (__stochastic property__). Intuitively, a neuron should more likely to be active (i.e. in the \"on\" state) if it receives a lot of input. This is exactly what is the case in the Boltzmann machine, where the probability $p(s_i)$ that neuron $i$ is in state $s=1$:\n",
    "\n",
    "$$p(s_i=1) = \\frac{1}{1+e^{-z_i}},$$\n",
    "\n",
    "where\n",
    "\n",
    "$$z_i = b_i + \\sum_{j\\neq i}^N s_j\\omega_{ij}.$$\n",
    "\n",
    "Here, $s_j$ is the state of neuron $j$, $N$ is the number of neurons in the network, $b_i$ is the _bias_ of neuron $i$ and $\\omega_{ij}$ is the connection strength from neuron $j$ to neuron $i$. Importantly connections are symmetric, i.e. $\\omega_{ij}=\\omega_{ji}$ (__symmetric property__).\n",
    "\n",
    "The state of the network is completely described by state vector $\\vec{v}=(s_1, s_2, ..., s_n)^T$, $s_i\\in{0,1}$.\n",
    "\n",
    "Before coming to the eponymous feature of the Boltzmann machine, we first have to introduce the concept of the _energy_ of the network. Each state $\\vec{v}$ is associated with a scalar function called the state's _energy_ E($\\vec{v}$):\n",
    "\n",
    "$$E(\\vec{v}) = -\\sum_i s_i b_i - \\sum_{i \\lt j} s_is_j\\omega_{ij}$$"
   ]
  },
  {
   "cell_type": "code",
   "execution_count": 11,
   "metadata": {
    "scrolled": true
   },
   "outputs": [],
   "source": [
    "import numpy as np\n",
    "import matplotlib.pyplot as plt\n",
    "import random\n",
    "%matplotlib inline\n",
    "\n",
    "from tqdm import tqdm\n",
    "\n",
    "import operator as op\n",
    "from functools import reduce\n",
    "\n",
    "def ncr(n, r):\n",
    "    # nchooser(n,r)\n",
    "    r = min(r, n-r)\n",
    "    numer = reduce(op.mul, range(n, n-r, -1), 1)\n",
    "    denom = reduce(op.mul, range(1, r+1), 1)\n",
    "    return numer / denom\n",
    "\n",
    "def logistic(z):\n",
    "    return 1/(1+np.exp(-z))\n",
    "\n",
    "def inpt(bias,W,state):\n",
    "    # COmputes inputs to the current states\n",
    "    return bias + W@state\n",
    "\n",
    "def Energy(state,bias,W):\n",
    "    E = -state@bias\n",
    "    for jdx in range(len(state)):\n",
    "        for idx in range(jdx):\n",
    "             E -= state[idx]*state[jdx]*W[idx,jdx]\n",
    "                \n",
    "    return E\n",
    "\n",
    "\n",
    "def BoltzmannM(no_iters):\n",
    "    print(\"Doing %d iterations\"%no_iters)\n",
    "    # No of units\n",
    "    N = 10\n",
    "\n",
    "    total_no_states = 0\n",
    "    for n in range(N+1):\n",
    "        #n is the no. of \"on\" states\n",
    "        total_no_states += ncr(N,n)\n",
    "\n",
    "    print(\"There is a total of %d different possible states\"%total_no_states)\n",
    "\n",
    "    # Generate random connectivity matrix\n",
    "    max_strength = 1/N\n",
    "    max_bias = -2\n",
    "\n",
    "    W = np.zeros([N,N])\n",
    "    for n1 in range(N):\n",
    "        for n2 in range(n1,N):\n",
    "            if (n1 != n2):\n",
    "                 W[n1,n2] = np.random.rand(1)*max_strength\n",
    "                 W[n2,n1] = W[n1,n2]\n",
    "\n",
    "    # Create a random initial state:\n",
    "    # state = np.random.randint(0,high=2,size=N)\n",
    "    state = np.array([1]*N)\n",
    "    \n",
    "    print(\"Initial state\")\n",
    "    print(state)\n",
    "\n",
    "    state_hist = []\n",
    "    E_hist = []\n",
    "\n",
    "    # Create random bias vector\n",
    "    bias = np.random.rand(10)*max_bias\n",
    "\n",
    "    for iter in range(no_iters):\n",
    "        for i in range(N):\n",
    "            z = bias + W@state\n",
    "            #print(\"Input vector z is\")\n",
    "            #print(np.round(z,2))\n",
    "            prob_active = logistic(z)\n",
    "            #print(\"Prob is\")\n",
    "            #print(np.round(prob_active))\n",
    "\n",
    "            if np.random.rand(1) > prob_active[i]:\n",
    "                state[i] = 0\n",
    "            else:\n",
    "                state[i] = 1\n",
    "\n",
    "            #print(\"New state is\")\n",
    "            #print(state)\n",
    "\n",
    "            #print(\"=================================================\")\n",
    "\n",
    "\n",
    "        # Compute energy of state vector\n",
    "        E = Energy(state,bias,W)\n",
    "        #print(\"state and energy are\")\n",
    "        #print(state)\n",
    "        #print(E)\n",
    "        #print(\"====================\")\n",
    "\n",
    "        E_hist.append(E)\n",
    "\n",
    "        #print(\"Appending state\")\n",
    "        #print(state)\n",
    "        state_hist.append(state.copy())\n",
    "\n",
    "    # Go through all different states in states_hist and compute their Boltzmann-prob as exp(-E(state))/const.\n",
    "    # Remove all duplicates from states_hist\n",
    "    new_array = [np.array(row) for row in state_hist]\n",
    "    uniques = np.unique(new_array, axis=0)\n",
    "\n",
    "    # For all states in uniques, compute energy\n",
    "    E_uniques = []\n",
    "    for s in uniques:\n",
    "        E_uniques.append(Energy(s,bias,W))\n",
    "\n",
    "    # Create dict with idx of unique states as keys and energies as values\n",
    "    d = {}\n",
    "    for idx in range(len(E_uniques)):\n",
    "        d[idx] = E_uniques[idx]\n",
    "\n",
    "    # Sort array according to values\n",
    "    d_sorted = {k: v for k, v in sorted(d.items(), key=lambda item: item[1])}\n",
    "\n",
    "    # Go through uniques and determine their states relative occurrence in state_hist and how often they should have occurred according to the Boltzmann distro\n",
    "    rel_occ_in_uniques = []\n",
    "    boltzmann_occ = []\n",
    "    \n",
    "    #for idx in tqdm(range(uniques.shape[0])):\n",
    "    for idx in tqdm(range(uniques.shape[0])):\n",
    "        occurrences = 0\n",
    "        for jdx in range(len(state_hist)):\n",
    "            if sum(uniques[idx] == state_hist[jdx]) == 10:\n",
    "                occurrences += 1\n",
    "\n",
    "        rel_occ_in_uniques.append(occurrences/no_iters)\n",
    "        boltzmann_occ.append(np.exp(-Energy(uniques[idx],bias,W)))\n",
    "\n",
    "    # boltzmann occurrences should ad up to 1 as they are probabilities\n",
    "    boltzmann_occ = boltzmann_occ/sum(boltzmann_occ)\n",
    "\n",
    "    return boltzmann_occ, rel_occ_in_uniques, E_hist"
   ]
  },
  {
   "cell_type": "code",
   "execution_count": 12,
   "metadata": {},
   "outputs": [
    {
     "name": "stderr",
     "output_type": "stream",
     "text": [
      "  1%|          | 4/377 [00:00<00:11, 31.68it/s]"
     ]
    },
    {
     "name": "stdout",
     "output_type": "stream",
     "text": [
      "Doing 1000 iterations\n",
      "There is a total of 1024 different possible states\n",
      "Initial state\n",
      "[1 1 1 1 1 1 1 1 1 1]\n"
     ]
    },
    {
     "name": "stderr",
     "output_type": "stream",
     "text": [
      "100%|██████████| 377/377 [00:11<00:00, 31.70it/s]\n"
     ]
    }
   ],
   "source": [
    "boltzmann_occ, rel_occ_in_uniques, E = BoltzmannM(1000)"
   ]
  },
  {
   "cell_type": "code",
   "execution_count": 2,
   "metadata": {
    "scrolled": false
   },
   "outputs": [
    {
     "name": "stderr",
     "output_type": "stream",
     "text": [
      "100%|██████████| 10/10 [00:00<00:00, 1928.50it/s]\n",
      "100%|██████████| 20/20 [00:00<00:00, 1195.96it/s]\n",
      "100%|██████████| 26/26 [00:00<00:00, 820.60it/s]\n",
      "100%|██████████| 39/39 [00:00<00:00, 663.73it/s]"
     ]
    },
    {
     "name": "stdout",
     "output_type": "stream",
     "text": [
      "The no of iters is 10\n",
      "Doing 10 iterations\n",
      "There is a total of 1024 different possible states\n",
      "Initial state\n",
      "[1 0 1 1 0 1 0 1 0 0]\n",
      "The no of iters is 20\n",
      "Doing 20 iterations\n",
      "There is a total of 1024 different possible states\n",
      "Initial state\n",
      "[1 1 0 1 0 1 0 1 0 0]\n",
      "The no of iters is 30\n",
      "Doing 30 iterations\n",
      "There is a total of 1024 different possible states\n",
      "Initial state\n",
      "[0 0 1 1 0 1 0 1 1 1]\n",
      "The no of iters is 40\n",
      "Doing 40 iterations\n",
      "There is a total of 1024 different possible states\n",
      "Initial state\n",
      "[0 1 1 0 1 1 0 0 0 1]\n"
     ]
    },
    {
     "name": "stderr",
     "output_type": "stream",
     "text": [
      "\n",
      "100%|██████████| 48/48 [00:00<00:00, 563.73it/s]\n",
      "100%|██████████| 47/47 [00:00<00:00, 488.79it/s]"
     ]
    },
    {
     "name": "stdout",
     "output_type": "stream",
     "text": [
      "The no of iters is 50\n",
      "Doing 50 iterations\n",
      "There is a total of 1024 different possible states\n",
      "Initial state\n",
      "[1 0 1 0 1 1 0 0 0 0]\n",
      "The no of iters is 60\n",
      "Doing 60 iterations\n",
      "There is a total of 1024 different possible states\n",
      "Initial state\n",
      "[0 1 1 1 1 1 0 1 0 1]\n"
     ]
    },
    {
     "name": "stderr",
     "output_type": "stream",
     "text": [
      "\n",
      "100%|██████████| 60/60 [00:00<00:00, 418.34it/s]\n"
     ]
    },
    {
     "name": "stdout",
     "output_type": "stream",
     "text": [
      "The no of iters is 70\n",
      "Doing 70 iterations\n",
      "There is a total of 1024 different possible states\n",
      "Initial state\n",
      "[0 1 0 1 0 1 0 0 1 1]\n",
      "The no of iters is 80\n",
      "Doing 80 iterations\n",
      "There is a total of 1024 different possible states\n",
      "Initial state\n",
      "[1 1 1 0 0 0 1 0 1 0]\n"
     ]
    },
    {
     "name": "stderr",
     "output_type": "stream",
     "text": [
      "100%|██████████| 69/69 [00:00<00:00, 356.75it/s]\n",
      " 46%|████▌     | 31/68 [00:00<00:00, 309.66it/s]"
     ]
    },
    {
     "name": "stdout",
     "output_type": "stream",
     "text": [
      "The no of iters is 90\n",
      "Doing 90 iterations\n",
      "There is a total of 1024 different possible states\n",
      "Initial state\n",
      "[0 1 0 0 0 1 1 1 0 0]\n"
     ]
    },
    {
     "name": "stderr",
     "output_type": "stream",
     "text": [
      "100%|██████████| 68/68 [00:00<00:00, 300.31it/s]\n",
      " 85%|████████▍ | 60/71 [00:00<00:00, 296.11it/s]"
     ]
    },
    {
     "name": "stdout",
     "output_type": "stream",
     "text": [
      "The no of iters is 100\n",
      "Doing 100 iterations\n",
      "There is a total of 1024 different possible states\n",
      "Initial state\n",
      "[0 1 0 0 1 1 0 1 1 0]\n"
     ]
    },
    {
     "name": "stderr",
     "output_type": "stream",
     "text": [
      "100%|██████████| 71/71 [00:00<00:00, 294.25it/s]\n",
      " 58%|█████▊    | 50/86 [00:00<00:00, 249.48it/s]"
     ]
    },
    {
     "name": "stdout",
     "output_type": "stream",
     "text": [
      "The no of iters is 110\n",
      "Doing 110 iterations\n",
      "There is a total of 1024 different possible states\n",
      "Initial state\n",
      "[1 0 1 1 0 0 0 1 0 1]\n"
     ]
    },
    {
     "name": "stderr",
     "output_type": "stream",
     "text": [
      "100%|██████████| 86/86 [00:00<00:00, 247.13it/s]\n",
      " 53%|█████▎    | 50/95 [00:00<00:00, 249.18it/s]"
     ]
    },
    {
     "name": "stdout",
     "output_type": "stream",
     "text": [
      "The no of iters is 120\n",
      "Doing 120 iterations\n",
      "There is a total of 1024 different possible states\n",
      "Initial state\n",
      "[1 1 0 1 0 0 0 0 0 0]\n"
     ]
    },
    {
     "name": "stderr",
     "output_type": "stream",
     "text": [
      "100%|██████████| 95/95 [00:00<00:00, 242.61it/s]\n",
      " 43%|████▎     | 47/110 [00:00<00:00, 230.43it/s]"
     ]
    },
    {
     "name": "stdout",
     "output_type": "stream",
     "text": [
      "The no of iters is 130\n",
      "Doing 130 iterations\n",
      "There is a total of 1024 different possible states\n",
      "Initial state\n",
      "[0 1 1 1 1 1 1 1 1 1]\n"
     ]
    },
    {
     "name": "stderr",
     "output_type": "stream",
     "text": [
      "100%|██████████| 110/110 [00:00<00:00, 220.66it/s]\n",
      " 20%|█▉        | 22/112 [00:00<00:00, 218.84it/s]"
     ]
    },
    {
     "name": "stdout",
     "output_type": "stream",
     "text": [
      "The no of iters is 140\n",
      "Doing 140 iterations\n",
      "There is a total of 1024 different possible states\n",
      "Initial state\n",
      "[0 1 0 1 1 1 1 0 0 1]\n"
     ]
    },
    {
     "name": "stderr",
     "output_type": "stream",
     "text": [
      "100%|██████████| 112/112 [00:00<00:00, 207.77it/s]\n",
      " 35%|███▌      | 42/119 [00:00<00:00, 206.28it/s]"
     ]
    },
    {
     "name": "stdout",
     "output_type": "stream",
     "text": [
      "The no of iters is 150\n",
      "Doing 150 iterations\n",
      "There is a total of 1024 different possible states\n",
      "Initial state\n",
      "[0 0 1 1 1 1 0 0 1 1]\n"
     ]
    },
    {
     "name": "stderr",
     "output_type": "stream",
     "text": [
      "100%|██████████| 119/119 [00:00<00:00, 204.54it/s]\n",
      " 14%|█▍        | 19/135 [00:00<00:00, 184.18it/s]"
     ]
    },
    {
     "name": "stdout",
     "output_type": "stream",
     "text": [
      "The no of iters is 160\n",
      "Doing 160 iterations\n",
      "There is a total of 1024 different possible states\n",
      "Initial state\n",
      "[0 0 1 0 0 0 1 1 1 1]\n"
     ]
    },
    {
     "name": "stderr",
     "output_type": "stream",
     "text": [
      "100%|██████████| 135/135 [00:00<00:00, 189.81it/s]\n",
      " 16%|█▌        | 19/117 [00:00<00:00, 182.44it/s]"
     ]
    },
    {
     "name": "stdout",
     "output_type": "stream",
     "text": [
      "The no of iters is 170\n",
      "Doing 170 iterations\n",
      "There is a total of 1024 different possible states\n",
      "Initial state\n",
      "[1 0 1 1 1 0 0 1 1 1]\n"
     ]
    },
    {
     "name": "stderr",
     "output_type": "stream",
     "text": [
      "100%|██████████| 117/117 [00:00<00:00, 178.56it/s]\n",
      " 14%|█▍        | 17/122 [00:00<00:00, 166.89it/s]"
     ]
    },
    {
     "name": "stdout",
     "output_type": "stream",
     "text": [
      "The no of iters is 180\n",
      "Doing 180 iterations\n",
      "There is a total of 1024 different possible states\n",
      "Initial state\n",
      "[0 0 0 0 1 0 1 1 0 0]\n"
     ]
    },
    {
     "name": "stderr",
     "output_type": "stream",
     "text": [
      "100%|██████████| 122/122 [00:00<00:00, 167.10it/s]\n",
      " 12%|█▏        | 17/137 [00:00<00:00, 163.34it/s]"
     ]
    },
    {
     "name": "stdout",
     "output_type": "stream",
     "text": [
      "The no of iters is 190\n",
      "Doing 190 iterations\n",
      "There is a total of 1024 different possible states\n",
      "Initial state\n",
      "[1 0 0 1 1 1 1 0 1 0]\n"
     ]
    },
    {
     "name": "stderr",
     "output_type": "stream",
     "text": [
      "100%|██████████| 137/137 [00:00<00:00, 156.22it/s]\n",
      "  0%|          | 0/157 [00:00<?, ?it/s]"
     ]
    },
    {
     "name": "stdout",
     "output_type": "stream",
     "text": [
      "The no of iters is 200\n",
      "Doing 200 iterations\n",
      "There is a total of 1024 different possible states\n",
      "Initial state\n",
      "[1 1 0 1 0 1 1 0 0 1]\n"
     ]
    },
    {
     "name": "stderr",
     "output_type": "stream",
     "text": [
      "100%|██████████| 157/157 [00:01<00:00, 152.18it/s]\n",
      "  0%|          | 0/112 [00:00<?, ?it/s]"
     ]
    },
    {
     "name": "stdout",
     "output_type": "stream",
     "text": [
      "The no of iters is 210\n",
      "Doing 210 iterations\n",
      "There is a total of 1024 different possible states\n",
      "Initial state\n",
      "[0 1 1 1 1 1 0 0 1 1]\n"
     ]
    },
    {
     "name": "stderr",
     "output_type": "stream",
     "text": [
      "100%|██████████| 112/112 [00:00<00:00, 145.54it/s]\n",
      "  0%|          | 0/135 [00:00<?, ?it/s]"
     ]
    },
    {
     "name": "stdout",
     "output_type": "stream",
     "text": [
      "The no of iters is 220\n",
      "Doing 220 iterations\n",
      "There is a total of 1024 different possible states\n",
      "Initial state\n",
      "[1 0 0 1 1 0 1 0 0 1]\n"
     ]
    },
    {
     "name": "stderr",
     "output_type": "stream",
     "text": [
      "100%|██████████| 135/135 [00:00<00:00, 140.74it/s]\n",
      " 13%|█▎        | 14/107 [00:00<00:00, 133.65it/s]"
     ]
    },
    {
     "name": "stdout",
     "output_type": "stream",
     "text": [
      "The no of iters is 230\n",
      "Doing 230 iterations\n",
      "There is a total of 1024 different possible states\n",
      "Initial state\n",
      "[1 0 1 1 1 1 0 1 1 0]\n"
     ]
    },
    {
     "name": "stderr",
     "output_type": "stream",
     "text": [
      "100%|██████████| 107/107 [00:00<00:00, 130.20it/s]\n",
      "  7%|▋         | 13/181 [00:00<00:01, 128.59it/s]"
     ]
    },
    {
     "name": "stdout",
     "output_type": "stream",
     "text": [
      "The no of iters is 240\n",
      "Doing 240 iterations\n",
      "There is a total of 1024 different possible states\n",
      "Initial state\n",
      "[1 1 1 1 1 1 1 0 1 0]\n"
     ]
    },
    {
     "name": "stderr",
     "output_type": "stream",
     "text": [
      "100%|██████████| 181/181 [00:01<00:00, 128.47it/s]\n",
      "  8%|▊         | 13/165 [00:00<00:01, 121.83it/s]"
     ]
    },
    {
     "name": "stdout",
     "output_type": "stream",
     "text": [
      "The no of iters is 250\n",
      "Doing 250 iterations\n",
      "There is a total of 1024 different possible states\n",
      "Initial state\n",
      "[1 0 1 1 1 0 1 1 0 0]\n"
     ]
    },
    {
     "name": "stderr",
     "output_type": "stream",
     "text": [
      "100%|██████████| 165/165 [00:01<00:00, 120.35it/s]\n",
      "  7%|▋         | 13/197 [00:00<00:01, 119.81it/s]"
     ]
    },
    {
     "name": "stdout",
     "output_type": "stream",
     "text": [
      "The no of iters is 260\n",
      "Doing 260 iterations\n",
      "There is a total of 1024 different possible states\n",
      "Initial state\n",
      "[1 1 1 1 1 0 0 0 1 1]\n"
     ]
    },
    {
     "name": "stderr",
     "output_type": "stream",
     "text": [
      "100%|██████████| 197/197 [00:01<00:00, 118.33it/s]\n",
      "  0%|          | 0/166 [00:00<?, ?it/s]"
     ]
    },
    {
     "name": "stdout",
     "output_type": "stream",
     "text": [
      "The no of iters is 270\n",
      "Doing 270 iterations\n",
      "There is a total of 1024 different possible states\n",
      "Initial state\n",
      "[1 0 0 1 0 0 0 0 1 1]\n"
     ]
    },
    {
     "name": "stderr",
     "output_type": "stream",
     "text": [
      "100%|██████████| 166/166 [00:01<00:00, 110.70it/s]\n",
      "  0%|          | 0/174 [00:00<?, ?it/s]"
     ]
    },
    {
     "name": "stdout",
     "output_type": "stream",
     "text": [
      "The no of iters is 280\n",
      "Doing 280 iterations\n",
      "There is a total of 1024 different possible states\n",
      "Initial state\n",
      "[0 1 0 0 0 0 0 0 1 1]\n"
     ]
    },
    {
     "name": "stderr",
     "output_type": "stream",
     "text": [
      "100%|██████████| 174/174 [00:01<00:00, 107.12it/s]\n",
      "  6%|▋         | 11/174 [00:00<00:01, 106.90it/s]"
     ]
    },
    {
     "name": "stdout",
     "output_type": "stream",
     "text": [
      "The no of iters is 290\n",
      "Doing 290 iterations\n",
      "There is a total of 1024 different possible states\n",
      "Initial state\n",
      "[0 1 1 0 0 1 1 0 1 1]\n"
     ]
    },
    {
     "name": "stderr",
     "output_type": "stream",
     "text": [
      "100%|██████████| 174/174 [00:01<00:00, 104.62it/s]\n",
      "  0%|          | 0/210 [00:00<?, ?it/s]"
     ]
    },
    {
     "name": "stdout",
     "output_type": "stream",
     "text": [
      "The no of iters is 300\n",
      "Doing 300 iterations\n",
      "There is a total of 1024 different possible states\n",
      "Initial state\n",
      "[0 1 1 0 0 0 0 1 1 0]\n"
     ]
    },
    {
     "name": "stderr",
     "output_type": "stream",
     "text": [
      "100%|██████████| 210/210 [00:02<00:00, 98.28it/s] \n",
      "  0%|          | 0/186 [00:00<?, ?it/s]"
     ]
    },
    {
     "name": "stdout",
     "output_type": "stream",
     "text": [
      "The no of iters is 310\n",
      "Doing 310 iterations\n",
      "There is a total of 1024 different possible states\n",
      "Initial state\n",
      "[0 0 0 1 1 0 1 1 0 0]\n"
     ]
    },
    {
     "name": "stderr",
     "output_type": "stream",
     "text": [
      "100%|██████████| 186/186 [00:01<00:00, 97.76it/s] \n",
      "  0%|          | 0/190 [00:00<?, ?it/s]"
     ]
    },
    {
     "name": "stdout",
     "output_type": "stream",
     "text": [
      "The no of iters is 320\n",
      "Doing 320 iterations\n",
      "There is a total of 1024 different possible states\n",
      "Initial state\n",
      "[1 0 0 0 1 0 0 0 0 0]\n"
     ]
    },
    {
     "name": "stderr",
     "output_type": "stream",
     "text": [
      "100%|██████████| 190/190 [00:02<00:00, 91.16it/s]\n",
      "  0%|          | 0/232 [00:00<?, ?it/s]"
     ]
    },
    {
     "name": "stdout",
     "output_type": "stream",
     "text": [
      "The no of iters is 330\n",
      "Doing 330 iterations\n",
      "There is a total of 1024 different possible states\n",
      "Initial state\n",
      "[0 0 1 0 1 0 0 0 1 1]\n"
     ]
    },
    {
     "name": "stderr",
     "output_type": "stream",
     "text": [
      "100%|██████████| 232/232 [00:02<00:00, 89.64it/s]\n",
      "  0%|          | 0/234 [00:00<?, ?it/s]"
     ]
    },
    {
     "name": "stdout",
     "output_type": "stream",
     "text": [
      "The no of iters is 340\n",
      "Doing 340 iterations\n",
      "There is a total of 1024 different possible states\n",
      "Initial state\n",
      "[0 1 1 0 0 1 0 1 0 0]\n"
     ]
    },
    {
     "name": "stderr",
     "output_type": "stream",
     "text": [
      "100%|██████████| 234/234 [00:02<00:00, 88.96it/s]\n",
      "  0%|          | 0/149 [00:00<?, ?it/s]"
     ]
    },
    {
     "name": "stdout",
     "output_type": "stream",
     "text": [
      "The no of iters is 350\n",
      "Doing 350 iterations\n",
      "There is a total of 1024 different possible states\n",
      "Initial state\n",
      "[1 0 1 0 1 0 1 0 1 1]\n"
     ]
    },
    {
     "name": "stderr",
     "output_type": "stream",
     "text": [
      "100%|██████████| 149/149 [00:01<00:00, 87.37it/s]\n",
      "  0%|          | 0/215 [00:00<?, ?it/s]"
     ]
    },
    {
     "name": "stdout",
     "output_type": "stream",
     "text": [
      "The no of iters is 360\n",
      "Doing 360 iterations\n",
      "There is a total of 1024 different possible states\n",
      "Initial state\n",
      "[0 1 0 0 1 1 1 0 1 0]\n"
     ]
    },
    {
     "name": "stderr",
     "output_type": "stream",
     "text": [
      "100%|██████████| 215/215 [00:02<00:00, 85.09it/s]\n",
      "  0%|          | 0/211 [00:00<?, ?it/s]"
     ]
    },
    {
     "name": "stdout",
     "output_type": "stream",
     "text": [
      "The no of iters is 370\n",
      "Doing 370 iterations\n",
      "There is a total of 1024 different possible states\n",
      "Initial state\n",
      "[1 0 1 0 1 0 1 0 1 1]\n"
     ]
    },
    {
     "name": "stderr",
     "output_type": "stream",
     "text": [
      "100%|██████████| 211/211 [00:02<00:00, 82.48it/s]\n",
      "  0%|          | 0/203 [00:00<?, ?it/s]"
     ]
    },
    {
     "name": "stdout",
     "output_type": "stream",
     "text": [
      "The no of iters is 380\n",
      "Doing 380 iterations\n",
      "There is a total of 1024 different possible states\n",
      "Initial state\n",
      "[1 0 0 1 1 1 0 0 0 0]\n"
     ]
    },
    {
     "name": "stderr",
     "output_type": "stream",
     "text": [
      "100%|██████████| 203/203 [00:02<00:00, 79.04it/s]\n",
      "  0%|          | 0/296 [00:00<?, ?it/s]"
     ]
    },
    {
     "name": "stdout",
     "output_type": "stream",
     "text": [
      "The no of iters is 390\n",
      "Doing 390 iterations\n",
      "There is a total of 1024 different possible states\n",
      "Initial state\n",
      "[1 0 0 1 0 1 0 1 0 1]\n"
     ]
    },
    {
     "name": "stderr",
     "output_type": "stream",
     "text": [
      "100%|██████████| 296/296 [00:04<00:00, 73.90it/s]\n",
      "  0%|          | 0/230 [00:00<?, ?it/s]"
     ]
    },
    {
     "name": "stdout",
     "output_type": "stream",
     "text": [
      "The no of iters is 400\n",
      "Doing 400 iterations\n",
      "There is a total of 1024 different possible states\n",
      "Initial state\n",
      "[0 0 1 0 0 0 1 1 0 1]\n"
     ]
    },
    {
     "name": "stderr",
     "output_type": "stream",
     "text": [
      "100%|██████████| 230/230 [00:03<00:00, 75.29it/s]\n"
     ]
    },
    {
     "name": "stdout",
     "output_type": "stream",
     "text": [
      "The no of iters is 410\n",
      "Doing 410 iterations\n",
      "There is a total of 1024 different possible states\n",
      "Initial state\n",
      "[0 1 0 0 1 0 0 1 1 0]\n"
     ]
    },
    {
     "name": "stderr",
     "output_type": "stream",
     "text": [
      "100%|██████████| 265/265 [00:03<00:00, 73.13it/s]\n"
     ]
    },
    {
     "name": "stdout",
     "output_type": "stream",
     "text": [
      "The no of iters is 420\n",
      "Doing 420 iterations\n",
      "There is a total of 1024 different possible states\n",
      "Initial state\n",
      "[1 0 1 1 1 1 1 1 1 1]\n"
     ]
    },
    {
     "name": "stderr",
     "output_type": "stream",
     "text": [
      "100%|██████████| 230/230 [00:03<00:00, 67.71it/s]\n"
     ]
    },
    {
     "name": "stdout",
     "output_type": "stream",
     "text": [
      "The no of iters is 430\n",
      "Doing 430 iterations\n",
      "There is a total of 1024 different possible states\n",
      "Initial state\n",
      "[1 1 0 0 1 1 1 1 1 1]\n"
     ]
    },
    {
     "name": "stderr",
     "output_type": "stream",
     "text": [
      "100%|██████████| 226/226 [00:03<00:00, 71.80it/s]\n"
     ]
    },
    {
     "name": "stdout",
     "output_type": "stream",
     "text": [
      "The no of iters is 440\n",
      "Doing 440 iterations\n",
      "There is a total of 1024 different possible states\n",
      "Initial state\n",
      "[0 1 1 0 1 0 1 1 1 1]\n"
     ]
    },
    {
     "name": "stderr",
     "output_type": "stream",
     "text": [
      "100%|██████████| 261/261 [00:03<00:00, 71.18it/s]\n",
      "  3%|▎         | 7/231 [00:00<00:03, 67.87it/s]"
     ]
    },
    {
     "name": "stdout",
     "output_type": "stream",
     "text": [
      "The no of iters is 450\n",
      "Doing 450 iterations\n",
      "There is a total of 1024 different possible states\n",
      "Initial state\n",
      "[0 0 0 0 0 1 1 0 0 1]\n"
     ]
    },
    {
     "name": "stderr",
     "output_type": "stream",
     "text": [
      "100%|██████████| 231/231 [00:03<00:00, 68.11it/s]\n"
     ]
    },
    {
     "name": "stdout",
     "output_type": "stream",
     "text": [
      "The no of iters is 460\n",
      "Doing 460 iterations\n",
      "There is a total of 1024 different possible states\n",
      "Initial state\n",
      "[0 1 0 0 1 0 0 1 1 1]\n"
     ]
    },
    {
     "name": "stderr",
     "output_type": "stream",
     "text": [
      "100%|██████████| 276/276 [00:04<00:00, 67.26it/s]\n"
     ]
    },
    {
     "name": "stdout",
     "output_type": "stream",
     "text": [
      "The no of iters is 470\n",
      "Doing 470 iterations\n",
      "There is a total of 1024 different possible states\n",
      "Initial state\n",
      "[1 0 0 1 1 0 1 1 0 0]\n"
     ]
    },
    {
     "name": "stderr",
     "output_type": "stream",
     "text": [
      "100%|██████████| 243/243 [00:03<00:00, 66.05it/s]\n"
     ]
    },
    {
     "name": "stdout",
     "output_type": "stream",
     "text": [
      "The no of iters is 480\n",
      "Doing 480 iterations\n",
      "There is a total of 1024 different possible states\n",
      "Initial state\n",
      "[0 0 1 0 0 1 0 0 0 0]\n"
     ]
    },
    {
     "name": "stderr",
     "output_type": "stream",
     "text": [
      "100%|██████████| 305/305 [00:04<00:00, 64.26it/s]\n"
     ]
    },
    {
     "name": "stdout",
     "output_type": "stream",
     "text": [
      "The no of iters is 490\n",
      "Doing 490 iterations\n",
      "There is a total of 1024 different possible states\n",
      "Initial state\n",
      "[1 1 0 1 1 0 1 1 0 1]\n"
     ]
    },
    {
     "name": "stderr",
     "output_type": "stream",
     "text": [
      "100%|██████████| 274/274 [00:04<00:00, 63.75it/s]\n",
      "  2%|▏         | 7/308 [00:00<00:04, 63.44it/s]"
     ]
    },
    {
     "name": "stdout",
     "output_type": "stream",
     "text": [
      "The no of iters is 500\n",
      "Doing 500 iterations\n",
      "There is a total of 1024 different possible states\n",
      "Initial state\n",
      "[1 0 0 0 0 1 0 1 0 0]\n"
     ]
    },
    {
     "name": "stderr",
     "output_type": "stream",
     "text": [
      "100%|██████████| 308/308 [00:04<00:00, 62.53it/s]\n"
     ]
    },
    {
     "name": "stdout",
     "output_type": "stream",
     "text": [
      "The no of iters is 510\n",
      "Doing 510 iterations\n",
      "There is a total of 1024 different possible states\n",
      "Initial state\n",
      "[0 0 0 1 1 1 1 1 0 0]\n"
     ]
    },
    {
     "name": "stderr",
     "output_type": "stream",
     "text": [
      "100%|██████████| 254/254 [00:04<00:00, 61.66it/s]\n"
     ]
    },
    {
     "name": "stdout",
     "output_type": "stream",
     "text": [
      "The no of iters is 520\n",
      "Doing 520 iterations\n",
      "There is a total of 1024 different possible states\n",
      "Initial state\n",
      "[0 0 1 1 1 1 0 1 0 1]\n"
     ]
    },
    {
     "name": "stderr",
     "output_type": "stream",
     "text": [
      "100%|██████████| 234/234 [00:03<00:00, 60.29it/s]\n"
     ]
    },
    {
     "name": "stdout",
     "output_type": "stream",
     "text": [
      "The no of iters is 530\n",
      "Doing 530 iterations\n",
      "There is a total of 1024 different possible states\n",
      "Initial state\n",
      "[1 0 1 1 0 0 1 1 1 0]\n"
     ]
    },
    {
     "name": "stderr",
     "output_type": "stream",
     "text": [
      "100%|██████████| 302/302 [00:05<00:00, 58.28it/s]\n"
     ]
    },
    {
     "name": "stdout",
     "output_type": "stream",
     "text": [
      "The no of iters is 540\n",
      "Doing 540 iterations\n",
      "There is a total of 1024 different possible states\n",
      "Initial state\n",
      "[1 0 0 1 1 0 0 1 0 1]\n"
     ]
    },
    {
     "name": "stderr",
     "output_type": "stream",
     "text": [
      "100%|██████████| 218/218 [00:03<00:00, 57.82it/s]\n"
     ]
    },
    {
     "name": "stdout",
     "output_type": "stream",
     "text": [
      "The no of iters is 550\n",
      "Doing 550 iterations\n",
      "There is a total of 1024 different possible states\n",
      "Initial state\n",
      "[0 0 0 1 0 1 1 0 0 1]\n"
     ]
    },
    {
     "name": "stderr",
     "output_type": "stream",
     "text": [
      "100%|██████████| 252/252 [00:04<00:00, 56.77it/s]\n"
     ]
    },
    {
     "name": "stdout",
     "output_type": "stream",
     "text": [
      "The no of iters is 560\n",
      "Doing 560 iterations\n",
      "There is a total of 1024 different possible states\n",
      "Initial state\n",
      "[0 1 0 1 1 0 1 0 0 0]\n"
     ]
    },
    {
     "name": "stderr",
     "output_type": "stream",
     "text": [
      "100%|██████████| 245/245 [00:04<00:00, 54.82it/s]\n"
     ]
    },
    {
     "name": "stdout",
     "output_type": "stream",
     "text": [
      "The no of iters is 570\n",
      "Doing 570 iterations\n",
      "There is a total of 1024 different possible states\n",
      "Initial state\n",
      "[1 0 1 1 1 1 0 0 1 1]\n"
     ]
    },
    {
     "name": "stderr",
     "output_type": "stream",
     "text": [
      "100%|██████████| 292/292 [00:05<00:00, 54.71it/s]\n"
     ]
    },
    {
     "name": "stdout",
     "output_type": "stream",
     "text": [
      "The no of iters is 580\n",
      "Doing 580 iterations\n",
      "There is a total of 1024 different possible states\n",
      "Initial state\n",
      "[0 0 1 1 0 0 0 1 0 0]\n"
     ]
    },
    {
     "name": "stderr",
     "output_type": "stream",
     "text": [
      "100%|██████████| 243/243 [00:04<00:00, 53.35it/s]\n"
     ]
    },
    {
     "name": "stdout",
     "output_type": "stream",
     "text": [
      "The no of iters is 590\n",
      "Doing 590 iterations\n",
      "There is a total of 1024 different possible states\n",
      "Initial state\n",
      "[1 1 0 1 0 1 1 0 0 0]\n"
     ]
    },
    {
     "name": "stderr",
     "output_type": "stream",
     "text": [
      "100%|██████████| 338/338 [00:06<00:00, 52.70it/s]\n"
     ]
    },
    {
     "name": "stdout",
     "output_type": "stream",
     "text": [
      "The no of iters is 600\n",
      "Doing 600 iterations\n",
      "There is a total of 1024 different possible states\n",
      "Initial state\n",
      "[0 0 0 0 0 0 0 0 0 0]\n"
     ]
    },
    {
     "name": "stderr",
     "output_type": "stream",
     "text": [
      "100%|██████████| 294/294 [00:05<00:00, 52.30it/s]\n"
     ]
    },
    {
     "name": "stdout",
     "output_type": "stream",
     "text": [
      "The no of iters is 610\n",
      "Doing 610 iterations\n",
      "There is a total of 1024 different possible states\n",
      "Initial state\n",
      "[1 1 0 0 0 1 1 0 0 1]\n"
     ]
    },
    {
     "name": "stderr",
     "output_type": "stream",
     "text": [
      "100%|██████████| 300/300 [00:05<00:00, 51.25it/s]\n"
     ]
    },
    {
     "name": "stdout",
     "output_type": "stream",
     "text": [
      "The no of iters is 620\n",
      "Doing 620 iterations\n",
      "There is a total of 1024 different possible states\n",
      "Initial state\n",
      "[1 1 0 0 1 1 1 0 1 1]\n"
     ]
    },
    {
     "name": "stderr",
     "output_type": "stream",
     "text": [
      "100%|██████████| 319/319 [00:06<00:00, 50.35it/s]\n"
     ]
    },
    {
     "name": "stdout",
     "output_type": "stream",
     "text": [
      "The no of iters is 630\n",
      "Doing 630 iterations\n",
      "There is a total of 1024 different possible states\n",
      "Initial state\n",
      "[0 0 0 1 0 1 1 1 0 1]\n"
     ]
    },
    {
     "name": "stderr",
     "output_type": "stream",
     "text": [
      "100%|██████████| 308/308 [00:06<00:00, 50.03it/s]\n"
     ]
    },
    {
     "name": "stdout",
     "output_type": "stream",
     "text": [
      "The no of iters is 640\n",
      "Doing 640 iterations\n",
      "There is a total of 1024 different possible states\n",
      "Initial state\n",
      "[1 1 0 0 1 1 1 1 1 0]\n"
     ]
    },
    {
     "name": "stderr",
     "output_type": "stream",
     "text": [
      "100%|██████████| 247/247 [00:05<00:00, 48.83it/s]\n"
     ]
    },
    {
     "name": "stdout",
     "output_type": "stream",
     "text": [
      "The no of iters is 650\n",
      "Doing 650 iterations\n",
      "There is a total of 1024 different possible states\n",
      "Initial state\n",
      "[1 0 1 0 1 1 0 1 1 1]\n"
     ]
    },
    {
     "name": "stderr",
     "output_type": "stream",
     "text": [
      "100%|██████████| 271/271 [00:05<00:00, 47.85it/s]\n"
     ]
    },
    {
     "name": "stdout",
     "output_type": "stream",
     "text": [
      "The no of iters is 660\n",
      "Doing 660 iterations\n",
      "There is a total of 1024 different possible states\n",
      "Initial state\n",
      "[1 0 1 0 1 0 1 1 0 0]\n"
     ]
    },
    {
     "name": "stderr",
     "output_type": "stream",
     "text": [
      "100%|██████████| 294/294 [00:06<00:00, 47.16it/s]\n"
     ]
    },
    {
     "name": "stdout",
     "output_type": "stream",
     "text": [
      "The no of iters is 670\n",
      "Doing 670 iterations\n",
      "There is a total of 1024 different possible states\n",
      "Initial state\n",
      "[1 0 0 1 1 0 0 0 1 1]\n"
     ]
    },
    {
     "name": "stderr",
     "output_type": "stream",
     "text": [
      "100%|██████████| 294/294 [00:06<00:00, 46.84it/s]\n",
      "  0%|          | 0/303 [00:00<?, ?it/s]"
     ]
    },
    {
     "name": "stdout",
     "output_type": "stream",
     "text": [
      "The no of iters is 680\n",
      "Doing 680 iterations\n",
      "There is a total of 1024 different possible states\n",
      "Initial state\n",
      "[0 0 0 1 0 1 0 0 0 1]\n"
     ]
    },
    {
     "name": "stderr",
     "output_type": "stream",
     "text": [
      "100%|██████████| 303/303 [00:06<00:00, 46.18it/s]\n"
     ]
    },
    {
     "name": "stdout",
     "output_type": "stream",
     "text": [
      "The no of iters is 690\n",
      "Doing 690 iterations\n",
      "There is a total of 1024 different possible states\n",
      "Initial state\n",
      "[0 1 0 1 0 0 1 0 1 1]\n"
     ]
    },
    {
     "name": "stderr",
     "output_type": "stream",
     "text": [
      "100%|██████████| 300/300 [00:06<00:00, 45.40it/s]\n"
     ]
    },
    {
     "name": "stdout",
     "output_type": "stream",
     "text": [
      "The no of iters is 700\n",
      "Doing 700 iterations\n",
      "There is a total of 1024 different possible states\n",
      "Initial state\n",
      "[1 1 0 1 0 1 1 0 1 0]\n"
     ]
    },
    {
     "name": "stderr",
     "output_type": "stream",
     "text": [
      "100%|██████████| 308/308 [00:06<00:00, 44.87it/s]\n"
     ]
    },
    {
     "name": "stdout",
     "output_type": "stream",
     "text": [
      "The no of iters is 710\n",
      "Doing 710 iterations\n",
      "There is a total of 1024 different possible states\n",
      "Initial state\n",
      "[1 1 0 0 1 1 0 0 0 1]\n"
     ]
    },
    {
     "name": "stderr",
     "output_type": "stream",
     "text": [
      "100%|██████████| 290/290 [00:06<00:00, 44.36it/s]\n"
     ]
    },
    {
     "name": "stdout",
     "output_type": "stream",
     "text": [
      "The no of iters is 720\n",
      "Doing 720 iterations\n",
      "There is a total of 1024 different possible states\n",
      "Initial state\n",
      "[1 1 1 1 1 1 0 0 1 0]\n"
     ]
    },
    {
     "name": "stderr",
     "output_type": "stream",
     "text": [
      "100%|██████████| 309/309 [00:07<00:00, 44.11it/s]\n"
     ]
    },
    {
     "name": "stdout",
     "output_type": "stream",
     "text": [
      "The no of iters is 730\n",
      "Doing 730 iterations\n",
      "There is a total of 1024 different possible states\n",
      "Initial state\n",
      "[0 0 1 0 1 0 0 1 0 0]\n"
     ]
    },
    {
     "name": "stderr",
     "output_type": "stream",
     "text": [
      "100%|██████████| 336/336 [00:07<00:00, 42.66it/s]\n"
     ]
    },
    {
     "name": "stdout",
     "output_type": "stream",
     "text": [
      "The no of iters is 740\n",
      "Doing 740 iterations\n",
      "There is a total of 1024 different possible states\n",
      "Initial state\n",
      "[1 0 1 0 0 1 0 0 0 0]\n"
     ]
    },
    {
     "name": "stderr",
     "output_type": "stream",
     "text": [
      "100%|██████████| 243/243 [00:05<00:00, 42.09it/s]\n"
     ]
    },
    {
     "name": "stdout",
     "output_type": "stream",
     "text": [
      "The no of iters is 750\n",
      "Doing 750 iterations\n",
      "There is a total of 1024 different possible states\n",
      "Initial state\n",
      "[1 1 1 1 1 1 1 1 1 0]\n"
     ]
    },
    {
     "name": "stderr",
     "output_type": "stream",
     "text": [
      "100%|██████████| 378/378 [00:09<00:00, 41.86it/s]\n"
     ]
    },
    {
     "name": "stdout",
     "output_type": "stream",
     "text": [
      "The no of iters is 760\n",
      "Doing 760 iterations\n",
      "There is a total of 1024 different possible states\n",
      "Initial state\n",
      "[0 0 1 1 0 1 0 0 0 1]\n"
     ]
    },
    {
     "name": "stderr",
     "output_type": "stream",
     "text": [
      "100%|██████████| 299/299 [00:07<00:00, 41.29it/s]\n"
     ]
    },
    {
     "name": "stdout",
     "output_type": "stream",
     "text": [
      "The no of iters is 770\n",
      "Doing 770 iterations\n",
      "There is a total of 1024 different possible states\n",
      "Initial state\n",
      "[1 1 0 1 1 1 1 1 1 1]\n"
     ]
    },
    {
     "name": "stderr",
     "output_type": "stream",
     "text": [
      "100%|██████████| 336/336 [00:08<00:00, 39.33it/s]\n"
     ]
    },
    {
     "name": "stdout",
     "output_type": "stream",
     "text": [
      "The no of iters is 780\n",
      "Doing 780 iterations\n",
      "There is a total of 1024 different possible states\n",
      "Initial state\n",
      "[1 0 0 0 1 1 1 1 1 1]\n"
     ]
    },
    {
     "name": "stderr",
     "output_type": "stream",
     "text": [
      "100%|██████████| 272/272 [00:07<00:00, 36.94it/s]\n"
     ]
    },
    {
     "name": "stdout",
     "output_type": "stream",
     "text": [
      "The no of iters is 790\n",
      "Doing 790 iterations\n",
      "There is a total of 1024 different possible states\n",
      "Initial state\n",
      "[0 1 1 0 1 0 0 1 1 0]\n"
     ]
    },
    {
     "name": "stderr",
     "output_type": "stream",
     "text": [
      "100%|██████████| 294/294 [00:07<00:00, 39.15it/s]\n"
     ]
    },
    {
     "name": "stdout",
     "output_type": "stream",
     "text": [
      "The no of iters is 800\n",
      "Doing 800 iterations\n",
      "There is a total of 1024 different possible states\n",
      "Initial state\n",
      "[1 0 1 1 0 1 1 0 1 0]\n"
     ]
    },
    {
     "name": "stderr",
     "output_type": "stream",
     "text": [
      "100%|██████████| 456/456 [00:11<00:00, 39.06it/s]\n"
     ]
    },
    {
     "name": "stdout",
     "output_type": "stream",
     "text": [
      "The no of iters is 810\n",
      "Doing 810 iterations\n",
      "There is a total of 1024 different possible states\n",
      "Initial state\n",
      "[1 0 1 0 0 0 0 0 1 0]\n"
     ]
    },
    {
     "name": "stderr",
     "output_type": "stream",
     "text": [
      "100%|██████████| 306/306 [00:07<00:00, 38.79it/s]\n"
     ]
    },
    {
     "name": "stdout",
     "output_type": "stream",
     "text": [
      "The no of iters is 820\n",
      "Doing 820 iterations\n",
      "There is a total of 1024 different possible states\n",
      "Initial state\n",
      "[1 1 0 1 1 0 1 1 1 1]\n"
     ]
    },
    {
     "name": "stderr",
     "output_type": "stream",
     "text": [
      "100%|██████████| 355/355 [00:09<00:00, 37.73it/s]\n"
     ]
    },
    {
     "name": "stdout",
     "output_type": "stream",
     "text": [
      "The no of iters is 830\n",
      "Doing 830 iterations\n",
      "There is a total of 1024 different possible states\n",
      "Initial state\n",
      "[1 0 0 1 1 0 1 0 1 1]\n"
     ]
    },
    {
     "name": "stderr",
     "output_type": "stream",
     "text": [
      "100%|██████████| 380/380 [00:10<00:00, 37.68it/s]\n"
     ]
    },
    {
     "name": "stdout",
     "output_type": "stream",
     "text": [
      "The no of iters is 840\n",
      "Doing 840 iterations\n",
      "There is a total of 1024 different possible states\n",
      "Initial state\n",
      "[1 1 1 0 1 1 0 1 1 0]\n"
     ]
    },
    {
     "name": "stderr",
     "output_type": "stream",
     "text": [
      "100%|██████████| 280/280 [00:07<00:00, 37.18it/s]\n"
     ]
    },
    {
     "name": "stdout",
     "output_type": "stream",
     "text": [
      "The no of iters is 850\n",
      "Doing 850 iterations\n",
      "There is a total of 1024 different possible states\n",
      "Initial state\n",
      "[1 0 1 1 0 0 0 0 0 1]\n"
     ]
    },
    {
     "name": "stderr",
     "output_type": "stream",
     "text": [
      "100%|██████████| 232/232 [00:06<00:00, 37.00it/s]\n"
     ]
    },
    {
     "name": "stdout",
     "output_type": "stream",
     "text": [
      "The no of iters is 860\n",
      "Doing 860 iterations\n",
      "There is a total of 1024 different possible states\n",
      "Initial state\n",
      "[0 0 0 1 1 0 1 0 1 1]\n"
     ]
    },
    {
     "name": "stderr",
     "output_type": "stream",
     "text": [
      "100%|██████████| 328/328 [00:09<00:00, 36.25it/s]\n"
     ]
    },
    {
     "name": "stdout",
     "output_type": "stream",
     "text": [
      "The no of iters is 870\n",
      "Doing 870 iterations\n",
      "There is a total of 1024 different possible states\n",
      "Initial state\n",
      "[0 0 0 0 0 1 0 0 1 1]\n"
     ]
    },
    {
     "name": "stderr",
     "output_type": "stream",
     "text": [
      "100%|██████████| 403/403 [00:11<00:00, 36.28it/s]\n"
     ]
    },
    {
     "name": "stdout",
     "output_type": "stream",
     "text": [
      "The no of iters is 880\n",
      "Doing 880 iterations\n",
      "There is a total of 1024 different possible states\n",
      "Initial state\n",
      "[1 1 1 1 1 1 0 1 0 0]\n"
     ]
    },
    {
     "name": "stderr",
     "output_type": "stream",
     "text": [
      "100%|██████████| 353/353 [00:09<00:00, 35.61it/s]\n"
     ]
    },
    {
     "name": "stdout",
     "output_type": "stream",
     "text": [
      "The no of iters is 890\n",
      "Doing 890 iterations\n",
      "There is a total of 1024 different possible states\n",
      "Initial state\n",
      "[1 1 0 0 0 0 1 0 0 0]\n"
     ]
    },
    {
     "name": "stderr",
     "output_type": "stream",
     "text": [
      "100%|██████████| 435/435 [00:12<00:00, 35.31it/s]\n",
      "  0%|          | 0/443 [00:00<?, ?it/s]"
     ]
    },
    {
     "name": "stdout",
     "output_type": "stream",
     "text": [
      "The no of iters is 900\n",
      "Doing 900 iterations\n",
      "There is a total of 1024 different possible states\n",
      "Initial state\n",
      "[0 0 0 1 1 0 0 0 1 0]\n"
     ]
    },
    {
     "name": "stderr",
     "output_type": "stream",
     "text": [
      "100%|██████████| 443/443 [00:12<00:00, 35.26it/s]\n"
     ]
    },
    {
     "name": "stdout",
     "output_type": "stream",
     "text": [
      "The no of iters is 910\n",
      "Doing 910 iterations\n",
      "There is a total of 1024 different possible states\n",
      "Initial state\n",
      "[1 0 1 1 0 1 0 1 0 0]\n"
     ]
    },
    {
     "name": "stderr",
     "output_type": "stream",
     "text": [
      "100%|██████████| 358/358 [00:10<00:00, 34.72it/s]\n"
     ]
    },
    {
     "name": "stdout",
     "output_type": "stream",
     "text": [
      "The no of iters is 920\n",
      "Doing 920 iterations\n",
      "There is a total of 1024 different possible states\n",
      "Initial state\n",
      "[1 1 0 1 1 1 1 1 0 1]\n"
     ]
    },
    {
     "name": "stderr",
     "output_type": "stream",
     "text": [
      "100%|██████████| 316/316 [00:09<00:00, 34.35it/s]\n"
     ]
    },
    {
     "name": "stdout",
     "output_type": "stream",
     "text": [
      "The no of iters is 930\n",
      "Doing 930 iterations\n",
      "There is a total of 1024 different possible states\n",
      "Initial state\n",
      "[1 1 1 0 1 1 1 1 1 1]\n"
     ]
    },
    {
     "name": "stderr",
     "output_type": "stream",
     "text": [
      "100%|██████████| 310/310 [00:09<00:00, 33.89it/s]\n"
     ]
    },
    {
     "name": "stdout",
     "output_type": "stream",
     "text": [
      "The no of iters is 940\n",
      "Doing 940 iterations\n",
      "There is a total of 1024 different possible states\n",
      "Initial state\n",
      "[1 1 1 1 1 1 0 1 1 1]\n"
     ]
    },
    {
     "name": "stderr",
     "output_type": "stream",
     "text": [
      "100%|██████████| 256/256 [00:07<00:00, 33.71it/s]\n"
     ]
    },
    {
     "name": "stdout",
     "output_type": "stream",
     "text": [
      "The no of iters is 950\n",
      "Doing 950 iterations\n",
      "There is a total of 1024 different possible states\n",
      "Initial state\n",
      "[1 0 0 0 0 0 0 0 1 1]\n"
     ]
    },
    {
     "name": "stderr",
     "output_type": "stream",
     "text": [
      "100%|██████████| 327/327 [00:09<00:00, 33.10it/s]\n"
     ]
    },
    {
     "name": "stdout",
     "output_type": "stream",
     "text": [
      "The no of iters is 960\n",
      "Doing 960 iterations\n",
      "There is a total of 1024 different possible states\n",
      "Initial state\n",
      "[1 1 1 1 1 1 0 0 1 0]\n"
     ]
    },
    {
     "name": "stderr",
     "output_type": "stream",
     "text": [
      "100%|██████████| 427/427 [00:13<00:00, 32.82it/s]\n"
     ]
    },
    {
     "name": "stdout",
     "output_type": "stream",
     "text": [
      "The no of iters is 970\n",
      "Doing 970 iterations\n",
      "There is a total of 1024 different possible states\n",
      "Initial state\n",
      "[0 1 0 0 0 1 1 1 1 1]\n"
     ]
    },
    {
     "name": "stderr",
     "output_type": "stream",
     "text": [
      "100%|██████████| 386/386 [00:11<00:00, 32.42it/s]\n"
     ]
    },
    {
     "name": "stdout",
     "output_type": "stream",
     "text": [
      "The no of iters is 980\n",
      "Doing 980 iterations\n",
      "There is a total of 1024 different possible states\n",
      "Initial state\n",
      "[1 0 1 0 1 1 0 1 0 1]\n"
     ]
    },
    {
     "name": "stderr",
     "output_type": "stream",
     "text": [
      "100%|██████████| 513/513 [00:15<00:00, 32.26it/s]\n"
     ]
    },
    {
     "name": "stdout",
     "output_type": "stream",
     "text": [
      "The no of iters is 990\n",
      "Doing 990 iterations\n",
      "There is a total of 1024 different possible states\n",
      "Initial state\n",
      "[1 0 0 0 0 1 1 1 1 0]\n"
     ]
    },
    {
     "name": "stderr",
     "output_type": "stream",
     "text": [
      "100%|██████████| 544/544 [00:17<00:00, 31.87it/s]\n"
     ]
    },
    {
     "name": "stdout",
     "output_type": "stream",
     "text": [
      "The no of iters is 1000\n",
      "Doing 1000 iterations\n",
      "There is a total of 1024 different possible states\n",
      "Initial state\n",
      "[1 1 1 1 1 1 1 1 1 1]\n"
     ]
    },
    {
     "name": "stderr",
     "output_type": "stream",
     "text": [
      "100%|██████████| 376/376 [00:11<00:00, 31.53it/s]\n"
     ]
    },
    {
     "data": {
      "image/png": "[encoded data removed]",
      "text/plain": [
       "<Figure size 432x288 with 1 Axes>"
      ]
     },
     "metadata": {
      "needs_background": "light"
     },
     "output_type": "display_data"
    }
   ],
   "source": [
    "no_iterations = np.linspace(10,10e2,100)\n",
    "\n",
    "average_distance = []\n",
    "\n",
    "for iters in no_iterations:\n",
    "    print(\"The no of iters is %d\"%int(iters))\n",
    "    boltzmann_occ, rel_occ_in_uniques, E = BoltzmannM(int(iters))\n",
    "    dist = abs(boltzmann_occ-rel_occ_in_uniques).sum()/len(rel_occ_in_uniques)\n",
    "    average_distance.append(dist)\n",
    "\n",
    "plt.figure()\n",
    "plt.plot(average_distance)\n",
    "plt.show()"
   ]
  },
  {
   "cell_type": "markdown",
   "metadata": {},
   "source": [
    "# References\n",
    "\n",
    "[Geoffrey E. Hinton (2007) Boltzmann machine. Scholarpedia, 2(5):1668.](http://www.scholarpedia.org/article/Boltzmann_machine)"
   ]
  }
 ],
 "metadata": {
  "kernelspec": {
   "display_name": "Python 3",
   "language": "python",
   "name": "python3"
  },
  "language_info": {
   "codemirror_mode": {
    "name": "ipython",
    "version": 3
   },
   "file_extension": ".py",
   "mimetype": "text/x-python",
   "name": "python",
   "nbconvert_exporter": "python",
   "pygments_lexer": "ipython3",
   "version": "3.8.1"
  }
 },
 "nbformat": 4,
 "nbformat_minor": 2
}
